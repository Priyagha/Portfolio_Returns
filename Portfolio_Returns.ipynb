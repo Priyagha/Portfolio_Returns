{
 "cells": [
  {
   "cell_type": "markdown",
   "metadata": {},
   "source": [
    "# Importing Libraries"
   ]
  },
  {
   "cell_type": "code",
   "execution_count": 2,
   "metadata": {},
   "outputs": [],
   "source": [
    "import numpy as np\n",
    "import pandas as pd\n",
    "import seaborn as sns\n",
    "import yfinance as yf\n",
    "import statsmodels.api as sm\n",
    "import matplotlib.pyplot as plt\n",
    "import getFamaFrenchFactors as gff\n",
    "from datetime import datetime\n",
    "from dateutil.relativedelta import relativedelta\n",
    "import os"
   ]
  },
  {
   "cell_type": "markdown",
   "metadata": {},
   "source": [
    "# Importing Dataset\n",
    "Here, Just importing the monthly data from the getfamaFrenchFactors as this project focuses on checking the investment returns, through monthly investment with strategic seasonal investment."
   ]
  },
  {
   "cell_type": "code",
   "execution_count": 3,
   "metadata": {},
   "outputs": [],
   "source": [
    "ff3_monthly = gff.famaFrench3Factor(frequency='m')"
   ]
  },
  {
   "cell_type": "markdown",
   "metadata": {},
   "source": [
    "Since, wanted to project the investment growth for the period of Jan 2010 to Dec 2019, filtering out that period from the whole dataset."
   ]
  },
  {
   "cell_type": "code",
   "execution_count": 4,
   "metadata": {},
   "outputs": [
    {
     "data": {
      "text/html": [
       "<div>\n",
       "<style scoped>\n",
       "    .dataframe tbody tr th:only-of-type {\n",
       "        vertical-align: middle;\n",
       "    }\n",
       "\n",
       "    .dataframe tbody tr th {\n",
       "        vertical-align: top;\n",
       "    }\n",
       "\n",
       "    .dataframe thead th {\n",
       "        text-align: right;\n",
       "    }\n",
       "</style>\n",
       "<table border=\"1\" class=\"dataframe\">\n",
       "  <thead>\n",
       "    <tr style=\"text-align: right;\">\n",
       "      <th></th>\n",
       "      <th>date_ff_factors</th>\n",
       "      <th>Mkt-RF</th>\n",
       "      <th>SMB</th>\n",
       "      <th>HML</th>\n",
       "      <th>RF</th>\n",
       "    </tr>\n",
       "  </thead>\n",
       "  <tbody>\n",
       "    <tr>\n",
       "      <th>0</th>\n",
       "      <td>2010-01-31</td>\n",
       "      <td>-0.0336</td>\n",
       "      <td>0.0040</td>\n",
       "      <td>0.0043</td>\n",
       "      <td>0.0000</td>\n",
       "    </tr>\n",
       "    <tr>\n",
       "      <th>1</th>\n",
       "      <td>2010-02-28</td>\n",
       "      <td>0.0340</td>\n",
       "      <td>0.0119</td>\n",
       "      <td>0.0323</td>\n",
       "      <td>0.0000</td>\n",
       "    </tr>\n",
       "    <tr>\n",
       "      <th>2</th>\n",
       "      <td>2010-03-31</td>\n",
       "      <td>0.0631</td>\n",
       "      <td>0.0148</td>\n",
       "      <td>0.0221</td>\n",
       "      <td>0.0001</td>\n",
       "    </tr>\n",
       "    <tr>\n",
       "      <th>3</th>\n",
       "      <td>2010-04-30</td>\n",
       "      <td>0.0200</td>\n",
       "      <td>0.0487</td>\n",
       "      <td>0.0289</td>\n",
       "      <td>0.0001</td>\n",
       "    </tr>\n",
       "    <tr>\n",
       "      <th>4</th>\n",
       "      <td>2010-05-31</td>\n",
       "      <td>-0.0789</td>\n",
       "      <td>0.0009</td>\n",
       "      <td>-0.0244</td>\n",
       "      <td>0.0001</td>\n",
       "    </tr>\n",
       "    <tr>\n",
       "      <th>...</th>\n",
       "      <td>...</td>\n",
       "      <td>...</td>\n",
       "      <td>...</td>\n",
       "      <td>...</td>\n",
       "      <td>...</td>\n",
       "    </tr>\n",
       "    <tr>\n",
       "      <th>115</th>\n",
       "      <td>2019-08-31</td>\n",
       "      <td>-0.0258</td>\n",
       "      <td>-0.0238</td>\n",
       "      <td>-0.0478</td>\n",
       "      <td>0.0016</td>\n",
       "    </tr>\n",
       "    <tr>\n",
       "      <th>116</th>\n",
       "      <td>2019-09-30</td>\n",
       "      <td>0.0143</td>\n",
       "      <td>-0.0096</td>\n",
       "      <td>0.0675</td>\n",
       "      <td>0.0018</td>\n",
       "    </tr>\n",
       "    <tr>\n",
       "      <th>117</th>\n",
       "      <td>2019-10-31</td>\n",
       "      <td>0.0206</td>\n",
       "      <td>0.0029</td>\n",
       "      <td>-0.0191</td>\n",
       "      <td>0.0016</td>\n",
       "    </tr>\n",
       "    <tr>\n",
       "      <th>118</th>\n",
       "      <td>2019-11-30</td>\n",
       "      <td>0.0387</td>\n",
       "      <td>0.0077</td>\n",
       "      <td>-0.0202</td>\n",
       "      <td>0.0012</td>\n",
       "    </tr>\n",
       "    <tr>\n",
       "      <th>119</th>\n",
       "      <td>2019-12-31</td>\n",
       "      <td>0.0277</td>\n",
       "      <td>0.0073</td>\n",
       "      <td>0.0175</td>\n",
       "      <td>0.0014</td>\n",
       "    </tr>\n",
       "  </tbody>\n",
       "</table>\n",
       "<p>120 rows × 5 columns</p>\n",
       "</div>"
      ],
      "text/plain": [
       "    date_ff_factors  Mkt-RF     SMB     HML      RF\n",
       "0        2010-01-31 -0.0336  0.0040  0.0043  0.0000\n",
       "1        2010-02-28  0.0340  0.0119  0.0323  0.0000\n",
       "2        2010-03-31  0.0631  0.0148  0.0221  0.0001\n",
       "3        2010-04-30  0.0200  0.0487  0.0289  0.0001\n",
       "4        2010-05-31 -0.0789  0.0009 -0.0244  0.0001\n",
       "..              ...     ...     ...     ...     ...\n",
       "115      2019-08-31 -0.0258 -0.0238 -0.0478  0.0016\n",
       "116      2019-09-30  0.0143 -0.0096  0.0675  0.0018\n",
       "117      2019-10-31  0.0206  0.0029 -0.0191  0.0016\n",
       "118      2019-11-30  0.0387  0.0077 -0.0202  0.0012\n",
       "119      2019-12-31  0.0277  0.0073  0.0175  0.0014\n",
       "\n",
       "[120 rows x 5 columns]"
      ]
     },
     "execution_count": 4,
     "metadata": {},
     "output_type": "execute_result"
    }
   ],
   "source": [
    "ff3_monthly = ff3_monthly[(ff3_monthly['date_ff_factors'] >= '2010-01') & (ff3_monthly['date_ff_factors'] < '2020-01')].reset_index(drop = True)\n",
    "ff3_monthly"
   ]
  },
  {
   "cell_type": "code",
   "execution_count": null,
   "metadata": {},
   "outputs": [],
   "source": []
  }
 ],
 "metadata": {
  "kernelspec": {
   "display_name": "base",
   "language": "python",
   "name": "python3"
  },
  "language_info": {
   "codemirror_mode": {
    "name": "ipython",
    "version": 3
   },
   "file_extension": ".py",
   "mimetype": "text/x-python",
   "name": "python",
   "nbconvert_exporter": "python",
   "pygments_lexer": "ipython3",
   "version": "3.10.9"
  }
 },
 "nbformat": 4,
 "nbformat_minor": 2
}
