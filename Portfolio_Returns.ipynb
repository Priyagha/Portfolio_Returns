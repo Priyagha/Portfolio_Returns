{
 "cells": [
  {
   "cell_type": "markdown",
   "metadata": {},
   "source": [
    "# Importing Libraries"
   ]
  },
  {
   "cell_type": "code",
   "execution_count": 1,
   "metadata": {},
   "outputs": [],
   "source": [
    "import numpy as np\n",
    "import pandas as pd\n",
    "import seaborn as sns\n",
    "import yfinance as yf\n",
    "import statsmodels.api as sm\n",
    "import matplotlib.pyplot as plt\n",
    "import getFamaFrenchFactors as gff\n",
    "from datetime import datetime\n",
    "from dateutil.relativedelta import relativedelta\n",
    "import os"
   ]
  },
  {
   "cell_type": "markdown",
   "metadata": {},
   "source": [
    "# Importing Dataset\n",
    "Here, Just importing the monthly data from the getfamaFrenchFactors as this project focuses on checking the investment returns, through monthly investment with strategic seasonal investment."
   ]
  },
  {
   "cell_type": "code",
   "execution_count": 2,
   "metadata": {},
   "outputs": [],
   "source": [
    "ff3_monthly = gff.famaFrench3Factor(frequency='m')"
   ]
  },
  {
   "cell_type": "markdown",
   "metadata": {},
   "source": [
    "Since, wanted to project the investment growth for the period of Jan 2010 to Dec 2019, filtering out that period from the whole dataset."
   ]
  },
  {
   "cell_type": "code",
   "execution_count": 3,
   "metadata": {},
   "outputs": [],
   "source": [
    "ff3_monthly = ff3_monthly[(ff3_monthly['date_ff_factors'] >= '2010-01') & (ff3_monthly['date_ff_factors'] < '2020-01')].reset_index(drop = True)"
   ]
  },
  {
   "cell_type": "code",
   "execution_count": 4,
   "metadata": {},
   "outputs": [
    {
     "data": {
      "text/html": [
       "<div>\n",
       "<style scoped>\n",
       "    .dataframe tbody tr th:only-of-type {\n",
       "        vertical-align: middle;\n",
       "    }\n",
       "\n",
       "    .dataframe tbody tr th {\n",
       "        vertical-align: top;\n",
       "    }\n",
       "\n",
       "    .dataframe thead th {\n",
       "        text-align: right;\n",
       "    }\n",
       "</style>\n",
       "<table border=\"1\" class=\"dataframe\">\n",
       "  <thead>\n",
       "    <tr style=\"text-align: right;\">\n",
       "      <th></th>\n",
       "      <th>date_ff_factors</th>\n",
       "      <th>Mkt-RF</th>\n",
       "      <th>SMB</th>\n",
       "      <th>HML</th>\n",
       "      <th>RF</th>\n",
       "    </tr>\n",
       "  </thead>\n",
       "  <tbody>\n",
       "    <tr>\n",
       "      <th>0</th>\n",
       "      <td>2010-01-31</td>\n",
       "      <td>-0.0336</td>\n",
       "      <td>0.0040</td>\n",
       "      <td>0.0043</td>\n",
       "      <td>0.0000</td>\n",
       "    </tr>\n",
       "    <tr>\n",
       "      <th>1</th>\n",
       "      <td>2010-02-28</td>\n",
       "      <td>0.0340</td>\n",
       "      <td>0.0119</td>\n",
       "      <td>0.0323</td>\n",
       "      <td>0.0000</td>\n",
       "    </tr>\n",
       "    <tr>\n",
       "      <th>2</th>\n",
       "      <td>2010-03-31</td>\n",
       "      <td>0.0631</td>\n",
       "      <td>0.0148</td>\n",
       "      <td>0.0221</td>\n",
       "      <td>0.0001</td>\n",
       "    </tr>\n",
       "    <tr>\n",
       "      <th>3</th>\n",
       "      <td>2010-04-30</td>\n",
       "      <td>0.0200</td>\n",
       "      <td>0.0487</td>\n",
       "      <td>0.0289</td>\n",
       "      <td>0.0001</td>\n",
       "    </tr>\n",
       "    <tr>\n",
       "      <th>4</th>\n",
       "      <td>2010-05-31</td>\n",
       "      <td>-0.0789</td>\n",
       "      <td>0.0009</td>\n",
       "      <td>-0.0244</td>\n",
       "      <td>0.0001</td>\n",
       "    </tr>\n",
       "  </tbody>\n",
       "</table>\n",
       "</div>"
      ],
      "text/plain": [
       "  date_ff_factors  Mkt-RF     SMB     HML      RF\n",
       "0      2010-01-31 -0.0336  0.0040  0.0043  0.0000\n",
       "1      2010-02-28  0.0340  0.0119  0.0323  0.0000\n",
       "2      2010-03-31  0.0631  0.0148  0.0221  0.0001\n",
       "3      2010-04-30  0.0200  0.0487  0.0289  0.0001\n",
       "4      2010-05-31 -0.0789  0.0009 -0.0244  0.0001"
      ]
     },
     "execution_count": 4,
     "metadata": {},
     "output_type": "execute_result"
    }
   ],
   "source": [
    "ff3_monthly.head()"
   ]
  },
  {
   "cell_type": "markdown",
   "metadata": {},
   "source": [
    "To begin with we wanted to invest round the year once every month $1000. Hence, adding a column to our dataset that reflects the same. "
   ]
  },
  {
   "cell_type": "code",
   "execution_count": 5,
   "metadata": {},
   "outputs": [],
   "source": [
    "# Adding a column which shows $1000 investment monthly\n",
    "ff3_monthly['Investment_Amt'] = 1000\n",
    "\n",
    "# Adding a column to show cummilation sum of investment\n",
    "ff3_monthly['Monthly_Amt_Aggregate'] = ff3_monthly['Investment_Amt'].cumsum()\n",
    "\n",
    "# Intially setting monthly return 0 for all months\n",
    "ff3_monthly['Monthly_Return'] = 0"
   ]
  },
  {
   "cell_type": "markdown",
   "metadata": {},
   "source": [
    "## Calculating Monthly return\n",
    "For simplicity just considering Mkt-RF and RF to calculate monthly return for investment of $1000 each month. Not considering other factors such as SMB, HML "
   ]
  },
  {
   "cell_type": "code",
   "execution_count": 6,
   "metadata": {},
   "outputs": [],
   "source": [
    "for i in range(len(ff3_monthly)):\n",
    "    if i == 0:\n",
    "        ff3_monthly.loc[i, 'Monthly_Return'] = ff3_monthly.loc[i, 'Investment_Amt']*(1 + ff3_monthly.iloc[i,1] + ff3_monthly.iloc[i,4])\n",
    "    else:\n",
    "        ff3_monthly.loc[i, 'Monthly_Return'] = (ff3_monthly.loc[i, 'Investment_Amt']+ff3_monthly.loc[i-1, 'Monthly_Return'])*(1 + ff3_monthly.iloc[i,1] + ff3_monthly.iloc[i,4])"
   ]
  },
  {
   "cell_type": "code",
   "execution_count": 7,
   "metadata": {},
   "outputs": [
    {
     "data": {
      "text/html": [
       "<div>\n",
       "<style scoped>\n",
       "    .dataframe tbody tr th:only-of-type {\n",
       "        vertical-align: middle;\n",
       "    }\n",
       "\n",
       "    .dataframe tbody tr th {\n",
       "        vertical-align: top;\n",
       "    }\n",
       "\n",
       "    .dataframe thead th {\n",
       "        text-align: right;\n",
       "    }\n",
       "</style>\n",
       "<table border=\"1\" class=\"dataframe\">\n",
       "  <thead>\n",
       "    <tr style=\"text-align: right;\">\n",
       "      <th></th>\n",
       "      <th>date_ff_factors</th>\n",
       "      <th>Mkt-RF</th>\n",
       "      <th>SMB</th>\n",
       "      <th>HML</th>\n",
       "      <th>RF</th>\n",
       "      <th>Investment_Amt</th>\n",
       "      <th>Monthly_Amt_Aggregate</th>\n",
       "      <th>Monthly_Return</th>\n",
       "    </tr>\n",
       "  </thead>\n",
       "  <tbody>\n",
       "    <tr>\n",
       "      <th>0</th>\n",
       "      <td>2010-01-31</td>\n",
       "      <td>-0.0336</td>\n",
       "      <td>0.0040</td>\n",
       "      <td>0.0043</td>\n",
       "      <td>0.0000</td>\n",
       "      <td>1000</td>\n",
       "      <td>1000</td>\n",
       "      <td>966.400000</td>\n",
       "    </tr>\n",
       "    <tr>\n",
       "      <th>1</th>\n",
       "      <td>2010-02-28</td>\n",
       "      <td>0.0340</td>\n",
       "      <td>0.0119</td>\n",
       "      <td>0.0323</td>\n",
       "      <td>0.0000</td>\n",
       "      <td>1000</td>\n",
       "      <td>2000</td>\n",
       "      <td>2033.257600</td>\n",
       "    </tr>\n",
       "    <tr>\n",
       "      <th>2</th>\n",
       "      <td>2010-03-31</td>\n",
       "      <td>0.0631</td>\n",
       "      <td>0.0148</td>\n",
       "      <td>0.0221</td>\n",
       "      <td>0.0001</td>\n",
       "      <td>1000</td>\n",
       "      <td>3000</td>\n",
       "      <td>3224.959480</td>\n",
       "    </tr>\n",
       "    <tr>\n",
       "      <th>3</th>\n",
       "      <td>2010-04-30</td>\n",
       "      <td>0.0200</td>\n",
       "      <td>0.0487</td>\n",
       "      <td>0.0289</td>\n",
       "      <td>0.0001</td>\n",
       "      <td>1000</td>\n",
       "      <td>4000</td>\n",
       "      <td>4309.881166</td>\n",
       "    </tr>\n",
       "    <tr>\n",
       "      <th>4</th>\n",
       "      <td>2010-05-31</td>\n",
       "      <td>-0.0789</td>\n",
       "      <td>0.0009</td>\n",
       "      <td>-0.0244</td>\n",
       "      <td>0.0001</td>\n",
       "      <td>1000</td>\n",
       "      <td>5000</td>\n",
       "      <td>4891.462530</td>\n",
       "    </tr>\n",
       "    <tr>\n",
       "      <th>...</th>\n",
       "      <td>...</td>\n",
       "      <td>...</td>\n",
       "      <td>...</td>\n",
       "      <td>...</td>\n",
       "      <td>...</td>\n",
       "      <td>...</td>\n",
       "      <td>...</td>\n",
       "      <td>...</td>\n",
       "    </tr>\n",
       "    <tr>\n",
       "      <th>115</th>\n",
       "      <td>2019-08-31</td>\n",
       "      <td>-0.0258</td>\n",
       "      <td>-0.0238</td>\n",
       "      <td>-0.0478</td>\n",
       "      <td>0.0016</td>\n",
       "      <td>1000</td>\n",
       "      <td>116000</td>\n",
       "      <td>216303.266167</td>\n",
       "    </tr>\n",
       "    <tr>\n",
       "      <th>116</th>\n",
       "      <td>2019-09-30</td>\n",
       "      <td>0.0143</td>\n",
       "      <td>-0.0096</td>\n",
       "      <td>0.0675</td>\n",
       "      <td>0.0018</td>\n",
       "      <td>1000</td>\n",
       "      <td>117000</td>\n",
       "      <td>220801.848752</td>\n",
       "    </tr>\n",
       "    <tr>\n",
       "      <th>117</th>\n",
       "      <td>2019-10-31</td>\n",
       "      <td>0.0206</td>\n",
       "      <td>0.0029</td>\n",
       "      <td>-0.0191</td>\n",
       "      <td>0.0016</td>\n",
       "      <td>1000</td>\n",
       "      <td>118000</td>\n",
       "      <td>226725.849795</td>\n",
       "    </tr>\n",
       "    <tr>\n",
       "      <th>118</th>\n",
       "      <td>2019-11-30</td>\n",
       "      <td>0.0387</td>\n",
       "      <td>0.0077</td>\n",
       "      <td>-0.0202</td>\n",
       "      <td>0.0012</td>\n",
       "      <td>1000</td>\n",
       "      <td>119000</td>\n",
       "      <td>236812.111201</td>\n",
       "    </tr>\n",
       "    <tr>\n",
       "      <th>119</th>\n",
       "      <td>2019-12-31</td>\n",
       "      <td>0.0277</td>\n",
       "      <td>0.0073</td>\n",
       "      <td>0.0175</td>\n",
       "      <td>0.0014</td>\n",
       "      <td>1000</td>\n",
       "      <td>120000</td>\n",
       "      <td>244732.443637</td>\n",
       "    </tr>\n",
       "  </tbody>\n",
       "</table>\n",
       "<p>120 rows × 8 columns</p>\n",
       "</div>"
      ],
      "text/plain": [
       "    date_ff_factors  Mkt-RF     SMB     HML      RF  Investment_Amt  \\\n",
       "0        2010-01-31 -0.0336  0.0040  0.0043  0.0000            1000   \n",
       "1        2010-02-28  0.0340  0.0119  0.0323  0.0000            1000   \n",
       "2        2010-03-31  0.0631  0.0148  0.0221  0.0001            1000   \n",
       "3        2010-04-30  0.0200  0.0487  0.0289  0.0001            1000   \n",
       "4        2010-05-31 -0.0789  0.0009 -0.0244  0.0001            1000   \n",
       "..              ...     ...     ...     ...     ...             ...   \n",
       "115      2019-08-31 -0.0258 -0.0238 -0.0478  0.0016            1000   \n",
       "116      2019-09-30  0.0143 -0.0096  0.0675  0.0018            1000   \n",
       "117      2019-10-31  0.0206  0.0029 -0.0191  0.0016            1000   \n",
       "118      2019-11-30  0.0387  0.0077 -0.0202  0.0012            1000   \n",
       "119      2019-12-31  0.0277  0.0073  0.0175  0.0014            1000   \n",
       "\n",
       "     Monthly_Amt_Aggregate  Monthly_Return  \n",
       "0                     1000      966.400000  \n",
       "1                     2000     2033.257600  \n",
       "2                     3000     3224.959480  \n",
       "3                     4000     4309.881166  \n",
       "4                     5000     4891.462530  \n",
       "..                     ...             ...  \n",
       "115                 116000   216303.266167  \n",
       "116                 117000   220801.848752  \n",
       "117                 118000   226725.849795  \n",
       "118                 119000   236812.111201  \n",
       "119                 120000   244732.443637  \n",
       "\n",
       "[120 rows x 8 columns]"
      ]
     },
     "execution_count": 7,
     "metadata": {},
     "output_type": "execute_result"
    }
   ],
   "source": [
    "ff3_monthly"
   ]
  },
  {
   "cell_type": "markdown",
   "metadata": {},
   "source": [
    "# Visualization of the monthly return over the time period"
   ]
  },
  {
   "cell_type": "code",
   "execution_count": 8,
   "metadata": {},
   "outputs": [
    {
     "data": {
      "text/plain": [
       "<matplotlib.legend.Legend at 0x1ba950384f0>"
      ]
     },
     "execution_count": 8,
     "metadata": {},
     "output_type": "execute_result"
    },
    {
     "data": {
      "image/png": "[encoded data removed]",
      "text/plain": [
       "<Figure size 640x480 with 1 Axes>"
      ]
     },
     "metadata": {},
     "output_type": "display_data"
    }
   ],
   "source": [
    "sns.lineplot(data=ff3_monthly, x = 'date_ff_factors', y = 'Monthly_Return', label = 'Mkt-RF +RF')\n",
    "sns.lineplot(data=ff3_monthly, x = 'date_ff_factors', y = 'Monthly_Amt_Aggregate', label = 'Aggregrate Investment' )\n",
    "plt.title(\"Cumulative Monthly Return over the time period\")\n",
    "plt.legend()"
   ]
  },
  {
   "cell_type": "markdown",
   "metadata": {},
   "source": [
    "## Investment return if not invested for summer months\n",
    "Investing $\\$1333.33$ every month except for summer months i.e. June, July and August. The total investment of an entire year will be same as investing $\\$1000$ for 12 months "
   ]
  },
  {
   "cell_type": "code",
   "execution_count": 9,
   "metadata": {},
   "outputs": [],
   "source": [
    "summer_months = [6,7,8]\n",
    "for i in range(len(ff3_monthly)):\n",
    "    if ff3_monthly.loc[i, 'date_ff_factors'].month in summer_months:\n",
    "        ff3_monthly.loc[i,'No_Summer_Investment'] = 0\n",
    "    else:\n",
    "        ff3_monthly.loc[i,'No_Summer_Investment'] = 1333.33"
   ]
  },
  {
   "cell_type": "code",
   "execution_count": 10,
   "metadata": {},
   "outputs": [
    {
     "data": {
      "text/html": [
       "<div>\n",
       "<style scoped>\n",
       "    .dataframe tbody tr th:only-of-type {\n",
       "        vertical-align: middle;\n",
       "    }\n",
       "\n",
       "    .dataframe tbody tr th {\n",
       "        vertical-align: top;\n",
       "    }\n",
       "\n",
       "    .dataframe thead th {\n",
       "        text-align: right;\n",
       "    }\n",
       "</style>\n",
       "<table border=\"1\" class=\"dataframe\">\n",
       "  <thead>\n",
       "    <tr style=\"text-align: right;\">\n",
       "      <th></th>\n",
       "      <th>date_ff_factors</th>\n",
       "      <th>Mkt-RF</th>\n",
       "      <th>SMB</th>\n",
       "      <th>HML</th>\n",
       "      <th>RF</th>\n",
       "      <th>Investment_Amt</th>\n",
       "      <th>Monthly_Amt_Aggregate</th>\n",
       "      <th>Monthly_Return</th>\n",
       "      <th>No_Summer_Investment</th>\n",
       "    </tr>\n",
       "  </thead>\n",
       "  <tbody>\n",
       "    <tr>\n",
       "      <th>0</th>\n",
       "      <td>2010-01-31</td>\n",
       "      <td>-0.0336</td>\n",
       "      <td>0.0040</td>\n",
       "      <td>0.0043</td>\n",
       "      <td>0.0000</td>\n",
       "      <td>1000</td>\n",
       "      <td>1000</td>\n",
       "      <td>966.400000</td>\n",
       "      <td>1333.33</td>\n",
       "    </tr>\n",
       "    <tr>\n",
       "      <th>1</th>\n",
       "      <td>2010-02-28</td>\n",
       "      <td>0.0340</td>\n",
       "      <td>0.0119</td>\n",
       "      <td>0.0323</td>\n",
       "      <td>0.0000</td>\n",
       "      <td>1000</td>\n",
       "      <td>2000</td>\n",
       "      <td>2033.257600</td>\n",
       "      <td>1333.33</td>\n",
       "    </tr>\n",
       "    <tr>\n",
       "      <th>2</th>\n",
       "      <td>2010-03-31</td>\n",
       "      <td>0.0631</td>\n",
       "      <td>0.0148</td>\n",
       "      <td>0.0221</td>\n",
       "      <td>0.0001</td>\n",
       "      <td>1000</td>\n",
       "      <td>3000</td>\n",
       "      <td>3224.959480</td>\n",
       "      <td>1333.33</td>\n",
       "    </tr>\n",
       "    <tr>\n",
       "      <th>3</th>\n",
       "      <td>2010-04-30</td>\n",
       "      <td>0.0200</td>\n",
       "      <td>0.0487</td>\n",
       "      <td>0.0289</td>\n",
       "      <td>0.0001</td>\n",
       "      <td>1000</td>\n",
       "      <td>4000</td>\n",
       "      <td>4309.881166</td>\n",
       "      <td>1333.33</td>\n",
       "    </tr>\n",
       "    <tr>\n",
       "      <th>4</th>\n",
       "      <td>2010-05-31</td>\n",
       "      <td>-0.0789</td>\n",
       "      <td>0.0009</td>\n",
       "      <td>-0.0244</td>\n",
       "      <td>0.0001</td>\n",
       "      <td>1000</td>\n",
       "      <td>5000</td>\n",
       "      <td>4891.462530</td>\n",
       "      <td>1333.33</td>\n",
       "    </tr>\n",
       "  </tbody>\n",
       "</table>\n",
       "</div>"
      ],
      "text/plain": [
       "  date_ff_factors  Mkt-RF     SMB     HML      RF  Investment_Amt  \\\n",
       "0      2010-01-31 -0.0336  0.0040  0.0043  0.0000            1000   \n",
       "1      2010-02-28  0.0340  0.0119  0.0323  0.0000            1000   \n",
       "2      2010-03-31  0.0631  0.0148  0.0221  0.0001            1000   \n",
       "3      2010-04-30  0.0200  0.0487  0.0289  0.0001            1000   \n",
       "4      2010-05-31 -0.0789  0.0009 -0.0244  0.0001            1000   \n",
       "\n",
       "   Monthly_Amt_Aggregate  Monthly_Return  No_Summer_Investment  \n",
       "0                   1000      966.400000               1333.33  \n",
       "1                   2000     2033.257600               1333.33  \n",
       "2                   3000     3224.959480               1333.33  \n",
       "3                   4000     4309.881166               1333.33  \n",
       "4                   5000     4891.462530               1333.33  "
      ]
     },
     "execution_count": 10,
     "metadata": {},
     "output_type": "execute_result"
    }
   ],
   "source": [
    "ff3_monthly.head(5)"
   ]
  },
  {
   "cell_type": "code",
   "execution_count": 11,
   "metadata": {},
   "outputs": [],
   "source": [
    "# Adding a column to show cummilation sum of investment when no investment in summer\n",
    "ff3_monthly['Monthly_Aggregate'] = ff3_monthly['No_Summer_Investment'].cumsum()"
   ]
  },
  {
   "cell_type": "code",
   "execution_count": 12,
   "metadata": {},
   "outputs": [
    {
     "data": {
      "text/html": [
       "<div>\n",
       "<style scoped>\n",
       "    .dataframe tbody tr th:only-of-type {\n",
       "        vertical-align: middle;\n",
       "    }\n",
       "\n",
       "    .dataframe tbody tr th {\n",
       "        vertical-align: top;\n",
       "    }\n",
       "\n",
       "    .dataframe thead th {\n",
       "        text-align: right;\n",
       "    }\n",
       "</style>\n",
       "<table border=\"1\" class=\"dataframe\">\n",
       "  <thead>\n",
       "    <tr style=\"text-align: right;\">\n",
       "      <th></th>\n",
       "      <th>date_ff_factors</th>\n",
       "      <th>Mkt-RF</th>\n",
       "      <th>SMB</th>\n",
       "      <th>HML</th>\n",
       "      <th>RF</th>\n",
       "      <th>Investment_Amt</th>\n",
       "      <th>Monthly_Amt_Aggregate</th>\n",
       "      <th>Monthly_Return</th>\n",
       "      <th>No_Summer_Investment</th>\n",
       "      <th>Monthly_Aggregate</th>\n",
       "    </tr>\n",
       "  </thead>\n",
       "  <tbody>\n",
       "    <tr>\n",
       "      <th>0</th>\n",
       "      <td>2010-01-31</td>\n",
       "      <td>-0.0336</td>\n",
       "      <td>0.0040</td>\n",
       "      <td>0.0043</td>\n",
       "      <td>0.0000</td>\n",
       "      <td>1000</td>\n",
       "      <td>1000</td>\n",
       "      <td>966.400000</td>\n",
       "      <td>1333.33</td>\n",
       "      <td>1333.33</td>\n",
       "    </tr>\n",
       "    <tr>\n",
       "      <th>1</th>\n",
       "      <td>2010-02-28</td>\n",
       "      <td>0.0340</td>\n",
       "      <td>0.0119</td>\n",
       "      <td>0.0323</td>\n",
       "      <td>0.0000</td>\n",
       "      <td>1000</td>\n",
       "      <td>2000</td>\n",
       "      <td>2033.257600</td>\n",
       "      <td>1333.33</td>\n",
       "      <td>2666.66</td>\n",
       "    </tr>\n",
       "    <tr>\n",
       "      <th>2</th>\n",
       "      <td>2010-03-31</td>\n",
       "      <td>0.0631</td>\n",
       "      <td>0.0148</td>\n",
       "      <td>0.0221</td>\n",
       "      <td>0.0001</td>\n",
       "      <td>1000</td>\n",
       "      <td>3000</td>\n",
       "      <td>3224.959480</td>\n",
       "      <td>1333.33</td>\n",
       "      <td>3999.99</td>\n",
       "    </tr>\n",
       "    <tr>\n",
       "      <th>3</th>\n",
       "      <td>2010-04-30</td>\n",
       "      <td>0.0200</td>\n",
       "      <td>0.0487</td>\n",
       "      <td>0.0289</td>\n",
       "      <td>0.0001</td>\n",
       "      <td>1000</td>\n",
       "      <td>4000</td>\n",
       "      <td>4309.881166</td>\n",
       "      <td>1333.33</td>\n",
       "      <td>5333.32</td>\n",
       "    </tr>\n",
       "    <tr>\n",
       "      <th>4</th>\n",
       "      <td>2010-05-31</td>\n",
       "      <td>-0.0789</td>\n",
       "      <td>0.0009</td>\n",
       "      <td>-0.0244</td>\n",
       "      <td>0.0001</td>\n",
       "      <td>1000</td>\n",
       "      <td>5000</td>\n",
       "      <td>4891.462530</td>\n",
       "      <td>1333.33</td>\n",
       "      <td>6666.65</td>\n",
       "    </tr>\n",
       "  </tbody>\n",
       "</table>\n",
       "</div>"
      ],
      "text/plain": [
       "  date_ff_factors  Mkt-RF     SMB     HML      RF  Investment_Amt  \\\n",
       "0      2010-01-31 -0.0336  0.0040  0.0043  0.0000            1000   \n",
       "1      2010-02-28  0.0340  0.0119  0.0323  0.0000            1000   \n",
       "2      2010-03-31  0.0631  0.0148  0.0221  0.0001            1000   \n",
       "3      2010-04-30  0.0200  0.0487  0.0289  0.0001            1000   \n",
       "4      2010-05-31 -0.0789  0.0009 -0.0244  0.0001            1000   \n",
       "\n",
       "   Monthly_Amt_Aggregate  Monthly_Return  No_Summer_Investment  \\\n",
       "0                   1000      966.400000               1333.33   \n",
       "1                   2000     2033.257600               1333.33   \n",
       "2                   3000     3224.959480               1333.33   \n",
       "3                   4000     4309.881166               1333.33   \n",
       "4                   5000     4891.462530               1333.33   \n",
       "\n",
       "   Monthly_Aggregate  \n",
       "0            1333.33  \n",
       "1            2666.66  \n",
       "2            3999.99  \n",
       "3            5333.32  \n",
       "4            6666.65  "
      ]
     },
     "execution_count": 12,
     "metadata": {},
     "output_type": "execute_result"
    }
   ],
   "source": [
    "ff3_monthly.head(5)"
   ]
  },
  {
   "cell_type": "code",
   "execution_count": 13,
   "metadata": {},
   "outputs": [],
   "source": [
    "ff3_monthly['Summer_Monthly_Return'] = 0\n",
    "for i in range(len(ff3_monthly)):\n",
    "    if i == 0:\n",
    "        ff3_monthly.loc[i, 'Summer_Monthly_Return'] = ff3_monthly.loc[i, 'No_Summer_Investment']*(1 + ff3_monthly.iloc[i,1] + ff3_monthly.iloc[i,4])\n",
    "    else:\n",
    "        ff3_monthly.loc[i, 'Summer_Monthly_Return'] = (ff3_monthly.loc[i, 'No_Summer_Investment']+ff3_monthly.loc[i-1, 'Summer_Monthly_Return'])*(1 + ff3_monthly.iloc[i,1] + ff3_monthly.iloc[i,4])"
   ]
  },
  {
   "cell_type": "markdown",
   "metadata": {},
   "source": [
    "## Visual Comparison for Return when Investing in Summer months as compared to when not Investing in Summer month"
   ]
  },
  {
   "cell_type": "code",
   "execution_count": 15,
   "metadata": {},
   "outputs": [
    {
     "data": {
      "text/plain": [
       "Text(0.5, 1.0, 'Comparision Plot of all month vs ex-summer month returns')"
      ]
     },
     "execution_count": 15,
     "metadata": {},
     "output_type": "execute_result"
    },
    {
     "data": {
      "image/png": "[encoded data removed]",
      "text/plain": [
       "<Figure size 640x480 with 1 Axes>"
      ]
     },
     "metadata": {},
     "output_type": "display_data"
    }
   ],
   "source": [
    "sns.lineplot(data=ff3_monthly, x = 'date_ff_factors', y = 'Monthly_Return', label = 'Mkt-RF + Rf',  color = 'Blue', alpha = 0.8)\n",
    "sns.lineplot(data=ff3_monthly, x = 'date_ff_factors', y = 'Monthly_Amt_Aggregate', label = 'Aggregrate Investment', linestyle = '--', color = 'Blue', alpha = 0.8)\n",
    "sns.lineplot(data=ff3_monthly, x = 'date_ff_factors', y = 'Summer_Monthly_Return', label = 'No Summer Mkt-RF + Rf', color = 'Orange', alpha = 0.7)\n",
    "sns.lineplot(data=ff3_monthly, x = 'date_ff_factors', y = 'Monthly_Aggregate', label = 'No Summer Aggregrate Investment', linestyle = '--', color = 'Orange', alpha = 0.7)\n",
    "plt.legend()\n",
    "plt.title(\"Comparision Plot of all month vs ex-summer month returns\")"
   ]
  },
  {
   "cell_type": "markdown",
   "metadata": {},
   "source": [
    "From the above figure it can be seen that there is no significant difference in return when investing $\\$1000$ each month for a year, or investing $\\$1333.33$ for 9 months except for summer.\n"
   ]
  }
 ],
 "metadata": {
  "kernelspec": {
   "display_name": "base",
   "language": "python",
   "name": "python3"
  },
  "language_info": {
   "codemirror_mode": {
    "name": "ipython",
    "version": 3
   },
   "file_extension": ".py",
   "mimetype": "text/x-python",
   "name": "python",
   "nbconvert_exporter": "python",
   "pygments_lexer": "ipython3",
   "version": "3.10.9"
  }
 },
 "nbformat": 4,
 "nbformat_minor": 2
}
